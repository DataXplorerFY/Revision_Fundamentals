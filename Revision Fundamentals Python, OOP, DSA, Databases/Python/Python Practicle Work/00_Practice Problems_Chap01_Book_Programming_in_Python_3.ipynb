{
 "cells": [
  {
   "cell_type": "markdown",
   "id": "253b271e",
   "metadata": {},
   "source": [
    "# Create a program that prompts the user to enter a number in a while loop, gradually building up a list of the numbers entered. When the user has finished (by simply pressing Enter), print out the numbers they entered, the count of numbers, the sum of the numbers, the lowest and highest numbers entered, and the mean of the numbers (sum / count). Here is a sample run:"
   ]
  },
  {
   "cell_type": "code",
   "execution_count": 35,
   "id": "0cab0a1d",
   "metadata": {},
   "outputs": [
    {
     "name": "stdout",
     "output_type": "stream",
     "text": [
      "Enter a number! 2\n",
      "Enter a number! 3\n",
      "Enter a number! 4\n",
      "Enter a number! 5\n",
      "Enter a number! 6\n",
      "Enter a number! \n",
      "\n",
      "************\n",
      "\n",
      "The Count of user numbers are 5 \n",
      "The Sum of user numbers are 20 \n",
      "The Lowest number is 2 \n",
      "The Highest number is 6 \n",
      "The Mean of the user's numbers is 4.0\n"
     ]
    }
   ],
   "source": [
    "List = []\n",
    "\n",
    "while (True):\n",
    "    user_input = input(\"Enter a number! \")\n",
    "    \n",
    "    if user_input == \"\":        \n",
    "        break\n",
    "    user_input = int(user_input)\n",
    "    List.append(user_input)\n",
    "print(\"\\n************\\n\")  \n",
    "print(f\"The Count of user numbers are {len(List)} \")\n",
    "\n",
    "sum = 0\n",
    "for i in List:    \n",
    "    sum = sum+i\n",
    "    \n",
    "print(f\"The Sum of user numbers are {sum} \")\n",
    "    \n",
    "lowest = List[0]\n",
    "for i in List:\n",
    "    if i < lowest:\n",
    "        lowest = i\n",
    "print(f\"The Lowest number is {lowest} \")\n",
    "   \n",
    "highest = List[0]\n",
    "for i in List:\n",
    "    if i > highest:\n",
    "        highest = i\n",
    "print(f\"The Highest number is {highest} \")\n",
    "    \n",
    "print(f\"The Mean of the user's numbers is {sum/len(List)}\")\n",
    "    "
   ]
  },
  {
   "cell_type": "code",
   "execution_count": null,
   "id": "02a81b58",
   "metadata": {},
   "outputs": [],
   "source": []
  }
 ],
 "metadata": {
  "kernelspec": {
   "display_name": "Python 3 (ipykernel)",
   "language": "python",
   "name": "python3"
  },
  "language_info": {
   "codemirror_mode": {
    "name": "ipython",
    "version": 3
   },
   "file_extension": ".py",
   "mimetype": "text/x-python",
   "name": "python",
   "nbconvert_exporter": "python",
   "pygments_lexer": "ipython3",
   "version": "3.9.7"
  }
 },
 "nbformat": 4,
 "nbformat_minor": 5
}
